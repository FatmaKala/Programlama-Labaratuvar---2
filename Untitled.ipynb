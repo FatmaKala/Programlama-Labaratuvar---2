{
 "cells": [
  {
   "cell_type": "code",
   "execution_count": 27,
   "metadata": {},
   "outputs": [],
   "source": [
    "import csv"
   ]
  },
  {
   "cell_type": "code",
   "execution_count": 28,
   "metadata": {},
   "outputs": [],
   "source": [
    "import re"
   ]
  },
  {
   "cell_type": "code",
   "execution_count": 29,
   "metadata": {},
   "outputs": [],
   "source": [
    "def my_frequency_with_of_tuples(list_1):  #liste yardımıyla histogram hesaplama\n",
    "    frekans_listesi=[]\n",
    "    for i in range(len(list_1)):\n",
    "        s=False\n",
    "        for j in range(len(frekans_listesi)):\n",
    "            if(list_1[i]==frekans_listesi[j][0]):\n",
    "                frekans_listesi[j][1]=frekans_listesi[j][1]+1\n",
    "                s=True\n",
    "        if(s==False):                              #eğer bir değerle ilk defa karşılaşıyorsa bu bloğa girer\n",
    "            frekans_listesi.append([list_1[i],1])\n",
    "    return frekans_listesi"
   ]
  },
  {
   "cell_type": "code",
   "execution_count": 30,
   "metadata": {},
   "outputs": [],
   "source": [
    "def my_median(my_list):  #medyan değerinin hesaplanması\n",
    "    n=len(my_list)\n",
    "    if n%2==1:    #liste tek elemanlı ise\n",
    "        median=my_list[n//2]\n",
    "    else:\n",
    "        middle_1=my_list[int(n//2)]\n",
    "        middle_2=my_list[int(n//2)-1]\n",
    "        median=(middle_1+middle_2)/2\n",
    "    return median"
   ]
  },
  {
   "cell_type": "code",
   "execution_count": 31,
   "metadata": {},
   "outputs": [
    {
     "ename": "FileNotFoundError",
     "evalue": "[Errno 2] No such file or directory: 'input_hw_2.csv'",
     "output_type": "error",
     "traceback": [
      "\u001b[1;31m---------------------------------------------------------------------------\u001b[0m",
      "\u001b[1;31mFileNotFoundError\u001b[0m                         Traceback (most recent call last)",
      "\u001b[1;32m<ipython-input-31-5ff4a9f611ae>\u001b[0m in \u001b[0;36m<module>\u001b[1;34m\u001b[0m\n\u001b[1;32m----> 1\u001b[1;33m \u001b[0mdosya\u001b[0m\u001b[1;33m=\u001b[0m\u001b[0mopen\u001b[0m\u001b[1;33m(\u001b[0m\u001b[1;34m\"input_hw_2.csv\"\u001b[0m\u001b[1;33m,\u001b[0m\u001b[1;34m\"r\"\u001b[0m\u001b[1;33m)\u001b[0m\u001b[1;33m\u001b[0m\u001b[1;33m\u001b[0m\u001b[0m\n\u001b[0m\u001b[0;32m      2\u001b[0m \u001b[0msatirlar\u001b[0m\u001b[1;33m=\u001b[0m\u001b[0mdosya\u001b[0m\u001b[1;33m.\u001b[0m\u001b[0mreadlines\u001b[0m\u001b[1;33m(\u001b[0m\u001b[1;33m)\u001b[0m\u001b[1;33m\u001b[0m\u001b[1;33m\u001b[0m\u001b[0m\n\u001b[0;32m      3\u001b[0m \u001b[0mliste\u001b[0m\u001b[1;33m=\u001b[0m\u001b[1;33m[\u001b[0m\u001b[1;33m]\u001b[0m\u001b[1;33m\u001b[0m\u001b[1;33m\u001b[0m\u001b[0m\n\u001b[0;32m      4\u001b[0m \u001b[0msozluk\u001b[0m\u001b[1;33m=\u001b[0m\u001b[1;33m{\u001b[0m\u001b[1;33m}\u001b[0m\u001b[1;33m\u001b[0m\u001b[1;33m\u001b[0m\u001b[0m\n\u001b[0;32m      5\u001b[0m \u001b[1;32mfor\u001b[0m \u001b[0msatir\u001b[0m \u001b[1;32min\u001b[0m \u001b[0msatirlar\u001b[0m\u001b[1;33m:\u001b[0m\u001b[1;33m\u001b[0m\u001b[1;33m\u001b[0m\u001b[0m\n",
      "\u001b[1;31mFileNotFoundError\u001b[0m: [Errno 2] No such file or directory: 'input_hw_2.csv'"
     ]
    }
   ],
   "source": [
    "dosya=open(\"input_hw_2.csv\",\"r\")\n",
    "satirlar=dosya.readlines()\n",
    "liste=[]\n",
    "sozluk={}\n",
    "for satir in satirlar:\n",
    "    x=re.split(\";\",satir)\n",
    "    x=x[-1]\n",
    "    a=re.split(\"-\",x) \n",
    "    liste.append(int(a[1]))\n",
    "\n",
    "liste.sort()\n",
    "#print(liste)\n",
    "\n",
    "\n",
    "histogram_listesi=my_frequency_with_of_tuples(liste)\n",
    "for i in range(len(histogram_listesi)):\n",
    "    for j in range(1):\n",
    "        print(histogram_listesi[i][j],\".ay\",histogram_listesi[i][j+1],\"kişi ilişiğini kesmiş.\")\n",
    "\n",
    "        \n",
    "frekans=[]\n",
    "for i in range(len(histogram_listesi)):\n",
    "    frekans.append(histogram_listesi[i][1])\n",
    "frekans.sort()\n",
    "\n",
    "\n",
    "toplam=0\n",
    "for i in frekans: #liste toplamı\n",
    "    toplam+=i\n",
    "\n",
    "ortalama=toplam/len(frekans)\n",
    "medyan=my_median(frekans)\n",
    "\n",
    "f=open(\"170401031_hw_2_output.txt\",\"w\",encoding=\"utf-8\")\n",
    "f.write(\"Medyan degeri:\")\n",
    "f.write(str(medyan))\n",
    "f.write(\"\\nortalama degeri:\")\n",
    "f.write(str(ortalama))\n",
    "f.close()\n",
    "    \n"
   ]
  },
  {
   "cell_type": "code",
   "execution_count": null,
   "metadata": {},
   "outputs": [],
   "source": []
  },
  {
   "cell_type": "code",
   "execution_count": null,
   "metadata": {},
   "outputs": [],
   "source": []
  },
  {
   "cell_type": "code",
   "execution_count": null,
   "metadata": {},
   "outputs": [],
   "source": []
  }
 ],
 "metadata": {
  "kernelspec": {
   "display_name": "Python 3",
   "language": "python",
   "name": "python3"
  },
  "language_info": {
   "codemirror_mode": {
    "name": "ipython",
    "version": 3
   },
   "file_extension": ".py",
   "mimetype": "text/x-python",
   "name": "python",
   "nbconvert_exporter": "python",
   "pygments_lexer": "ipython3",
   "version": "3.7.1"
  }
 },
 "nbformat": 4,
 "nbformat_minor": 2
}
